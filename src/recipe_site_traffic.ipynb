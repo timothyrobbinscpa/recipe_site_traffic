{
 "cells": [
  {
   "cell_type": "markdown",
   "id": "a3d4387f-fa24-4a80-906b-4cca195b6736",
   "metadata": {},
   "source": [
    "# Data Scientist Professional Practical Exam Submission\n",
    "\n",
    "**Use this template to write up your summary for submission. Code in Python or R needs to be included.**\n"
   ]
  },
  {
   "cell_type": "markdown",
   "id": "562d9d77-2e1e-4523-a28e-1e3b388f930c",
   "metadata": {},
   "source": [
    "## 📝 Task List\n",
    "\n",
    "Your written report should include both code, output and written text summaries of the following:\n",
    "- Data Validation:   \n",
    "  - Describe validation and cleaning steps for every column in the data \n",
    "- Exploratory Analysis:  \n",
    "  - Include two different graphics showing single variables only to demonstrate the characteristics of data  \n",
    "  - Include at least one graphic showing two or more variables to represent the relationship between features\n",
    "  - Describe your findings\n",
    "- Model Development\n",
    "  - Include your reasons for selecting the models you use as well as a statement of the problem type\n",
    "  - Code to fit the baseline and comparison models\n",
    "- Model Evaluation\n",
    "  - Describe the performance of the two models based on an appropriate metric\n",
    "- Business Metrics\n",
    "  - Define a way to compare your model performance to the business\n",
    "  - Describe how your models perform using this approach\n",
    "- Final summary including recommendations that the business should undertake\n",
    "\n",
    "*Start writing report here..*"
   ]
  },
  {
   "cell_type": "markdown",
   "id": "ddf7f70e-7a08-4a8d-87d2-6d89e387da5a",
   "metadata": {},
   "source": [
    "# Introduction"
   ]
  },
  {
   "cell_type": "markdown",
   "id": "75d4e0a7-8e2f-42df-9775-b5d604efb1eb",
   "metadata": {},
   "source": [
    "The main goal of this project is to predict which recipes wil be popular 80% of the time and minimize the chance of showing unpopular recipes on the companies homepage, for the project team."
   ]
  },
  {
   "cell_type": "markdown",
   "id": "1fdf24ab-e54d-4eaa-818a-da1b09cb73ba",
   "metadata": {},
   "source": [
    "# Data Validation"
   ]
  },
  {
   "cell_type": "code",
   "execution_count": 6,
   "id": "45554a01-416e-4127-8e3e-53cc0290cb5a",
   "metadata": {
    "executionCancelledAt": null,
    "executionTime": 14,
    "lastExecutedAt": 1709972689464,
    "lastScheduledRunId": null,
    "lastSuccessfullyExecutedCode": "# import necessary libraries\nimport pandas as pd\nimport numpy as np\nimport matplotlib.pyplot as plt\nimport seaborn as sns\nfrom sklearn.model_selection import train_test_split, RandomizedSearchCV\nfrom sklearn.ensemble import RandomForestClassifier, GradientBoostingClassifier\nfrom sklearn.metrics import recall_score, precision_score, accuracy_score, f1_score, classification_report, confusion_matrix\nfrom sklearn.metrics import auc, precision_recall_curve, roc_curve, roc_auc_score\nfrom sklearn.compose import ColumnTransformer\nfrom sklearn.pipeline import Pipeline\nfrom sklearn.preprocessing import RobustScaler, OneHotEncoder, FunctionTransformer\n\n# use ggplot style\nplt.style.use('ggplot')\n# set style to colorblind with max of 3 colors\nsns.set_palette(sns.color_palette(\"colorblind\", 2))\n\n# show all columns, more rows in df\npd.set_option('display.max_columns', None) \npd.set_option('display.max_rows', 100)"
   },
   "outputs": [],
   "source": [
    "# import necessary libraries\n",
    "import pandas as pd\n",
    "import numpy as np\n",
    "import matplotlib.pyplot as plt\n",
    "import seaborn as sns\n",
    "from sklearn.model_selection import train_test_split, RandomizedSearchCV\n",
    "from sklearn.ensemble import RandomForestClassifier, GradientBoostingClassifier\n",
    "from sklearn.metrics import recall_score, precision_score, accuracy_score, f1_score, classification_report, confusion_matrix\n",
    "from sklearn.metrics import auc, precision_recall_curve, roc_curve, roc_auc_score\n",
    "from sklearn.compose import ColumnTransformer\n",
    "from sklearn.pipeline import Pipeline\n",
    "from sklearn.preprocessing import RobustScaler, OneHotEncoder, FunctionTransformer\n",
    "\n",
    "# use ggplot style\n",
    "plt.style.use('ggplot')\n",
    "# set style to colorblind with max of 3 colors\n",
    "sns.set_palette(sns.color_palette(\"colorblind\", 2))\n",
    "\n",
    "# show all columns, more rows in df\n",
    "pd.set_option('display.max_columns', None) \n",
    "pd.set_option('display.max_rows', 100)"
   ]
  },
  {
   "cell_type": "code",
   "execution_count": 7,
   "id": "5f3570f8-2d2e-4d6f-bd2d-3117b584e4a0",
   "metadata": {
    "chartConfig": {
     "bar": {
      "hasRoundedCorners": true,
      "stacked": false
     },
     "type": "bar",
     "version": "v1"
    },
    "executionCancelledAt": null,
    "executionTime": 48,
    "lastExecutedAt": 1709972689512,
    "lastScheduledRunId": null,
    "lastSuccessfullyExecutedCode": "# read in csv file\nrecipes = pd.read_csv('recipe_site_traffic_2212.csv')\n\n# look at first few lines of df\nrecipes.head()",
    "outputsMetadata": {
     "0": {
      "height": 196,
      "type": "dataFrame"
     }
    },
    "visualizeDataframe": false
   },
   "outputs": [
    {
     "data": {
      "text/html": [
       "<div>\n",
       "<style scoped>\n",
       "    .dataframe tbody tr th:only-of-type {\n",
       "        vertical-align: middle;\n",
       "    }\n",
       "\n",
       "    .dataframe tbody tr th {\n",
       "        vertical-align: top;\n",
       "    }\n",
       "\n",
       "    .dataframe thead th {\n",
       "        text-align: right;\n",
       "    }\n",
       "</style>\n",
       "<table border=\"1\" class=\"dataframe\">\n",
       "  <thead>\n",
       "    <tr style=\"text-align: right;\">\n",
       "      <th></th>\n",
       "      <th>recipe</th>\n",
       "      <th>calories</th>\n",
       "      <th>carbohydrate</th>\n",
       "      <th>sugar</th>\n",
       "      <th>protein</th>\n",
       "      <th>category</th>\n",
       "      <th>servings</th>\n",
       "      <th>high_traffic</th>\n",
       "    </tr>\n",
       "  </thead>\n",
       "  <tbody>\n",
       "    <tr>\n",
       "      <th>0</th>\n",
       "      <td>1</td>\n",
       "      <td>NaN</td>\n",
       "      <td>NaN</td>\n",
       "      <td>NaN</td>\n",
       "      <td>NaN</td>\n",
       "      <td>Pork</td>\n",
       "      <td>6</td>\n",
       "      <td>High</td>\n",
       "    </tr>\n",
       "    <tr>\n",
       "      <th>1</th>\n",
       "      <td>2</td>\n",
       "      <td>35.48</td>\n",
       "      <td>38.56</td>\n",
       "      <td>0.66</td>\n",
       "      <td>0.92</td>\n",
       "      <td>Potato</td>\n",
       "      <td>4</td>\n",
       "      <td>High</td>\n",
       "    </tr>\n",
       "    <tr>\n",
       "      <th>2</th>\n",
       "      <td>3</td>\n",
       "      <td>914.28</td>\n",
       "      <td>42.68</td>\n",
       "      <td>3.09</td>\n",
       "      <td>2.88</td>\n",
       "      <td>Breakfast</td>\n",
       "      <td>1</td>\n",
       "      <td>NaN</td>\n",
       "    </tr>\n",
       "    <tr>\n",
       "      <th>3</th>\n",
       "      <td>4</td>\n",
       "      <td>97.03</td>\n",
       "      <td>30.56</td>\n",
       "      <td>38.63</td>\n",
       "      <td>0.02</td>\n",
       "      <td>Beverages</td>\n",
       "      <td>4</td>\n",
       "      <td>High</td>\n",
       "    </tr>\n",
       "    <tr>\n",
       "      <th>4</th>\n",
       "      <td>5</td>\n",
       "      <td>27.05</td>\n",
       "      <td>1.85</td>\n",
       "      <td>0.80</td>\n",
       "      <td>0.53</td>\n",
       "      <td>Beverages</td>\n",
       "      <td>4</td>\n",
       "      <td>NaN</td>\n",
       "    </tr>\n",
       "  </tbody>\n",
       "</table>\n",
       "</div>"
      ],
      "text/plain": [
       "   recipe  calories  carbohydrate  sugar  protein   category servings  \\\n",
       "0       1       NaN           NaN    NaN      NaN       Pork        6   \n",
       "1       2     35.48         38.56   0.66     0.92     Potato        4   \n",
       "2       3    914.28         42.68   3.09     2.88  Breakfast        1   \n",
       "3       4     97.03         30.56  38.63     0.02  Beverages        4   \n",
       "4       5     27.05          1.85   0.80     0.53  Beverages        4   \n",
       "\n",
       "  high_traffic  \n",
       "0         High  \n",
       "1         High  \n",
       "2          NaN  \n",
       "3         High  \n",
       "4          NaN  "
      ]
     },
     "execution_count": 7,
     "metadata": {},
     "output_type": "execute_result"
    }
   ],
   "source": [
    "# read in csv file\n",
    "recipes = pd.read_csv('../data/recipe_site_traffic_2212.csv')\n",
    "\n",
    "# look at first few lines of df\n",
    "recipes.head()"
   ]
  },
  {
   "cell_type": "code",
   "execution_count": 8,
   "id": "d9c7d56f-3000-4ca6-b334-2e9a22deedc1",
   "metadata": {
    "executionCancelledAt": null,
    "executionTime": 47,
    "lastExecutedAt": 1709972689560,
    "lastScheduledRunId": null,
    "lastSuccessfullyExecutedCode": "# look at df shape\nrecipes.shape"
   },
   "outputs": [
    {
     "data": {
      "text/plain": [
       "(947, 8)"
      ]
     },
     "execution_count": 8,
     "metadata": {},
     "output_type": "execute_result"
    }
   ],
   "source": [
    "# look at df shape\n",
    "recipes.shape"
   ]
  },
  {
   "cell_type": "code",
   "execution_count": 9,
   "id": "614ac8a3-ca35-4ac2-ba2d-554f410243e6",
   "metadata": {
    "executionCancelledAt": null,
    "executionTime": 57,
    "lastExecutedAt": 1709972689617,
    "lastScheduledRunId": null,
    "lastSuccessfullyExecutedCode": "recipes.info()",
    "outputsMetadata": {
     "0": {
      "height": 332,
      "type": "stream"
     }
    }
   },
   "outputs": [
    {
     "name": "stdout",
     "output_type": "stream",
     "text": [
      "<class 'pandas.core.frame.DataFrame'>\n",
      "RangeIndex: 947 entries, 0 to 946\n",
      "Data columns (total 8 columns):\n",
      " #   Column        Non-Null Count  Dtype  \n",
      "---  ------        --------------  -----  \n",
      " 0   recipe        947 non-null    int64  \n",
      " 1   calories      895 non-null    float64\n",
      " 2   carbohydrate  895 non-null    float64\n",
      " 3   sugar         895 non-null    float64\n",
      " 4   protein       895 non-null    float64\n",
      " 5   category      947 non-null    object \n",
      " 6   servings      947 non-null    object \n",
      " 7   high_traffic  574 non-null    object \n",
      "dtypes: float64(4), int64(1), object(3)\n",
      "memory usage: 59.3+ KB\n"
     ]
    }
   ],
   "source": [
    "recipes.info()"
   ]
  },
  {
   "cell_type": "code",
   "execution_count": 10,
   "id": "a4414b92-0dbb-4fc1-915a-1f2736290827",
   "metadata": {
    "executionCancelledAt": null,
    "executionTime": 51,
    "lastExecutedAt": 1709972689668,
    "lastScheduledRunId": null,
    "lastSuccessfullyExecutedCode": "# check for missing values\nrecipes.isna().sum()"
   },
   "outputs": [
    {
     "data": {
      "text/plain": [
       "recipe            0\n",
       "calories         52\n",
       "carbohydrate     52\n",
       "sugar            52\n",
       "protein          52\n",
       "category          0\n",
       "servings          0\n",
       "high_traffic    373\n",
       "dtype: int64"
      ]
     },
     "execution_count": 10,
     "metadata": {},
     "output_type": "execute_result"
    }
   ],
   "source": [
    "# check for missing values\n",
    "recipes.isna().sum()"
   ]
  },
  {
   "cell_type": "code",
   "execution_count": 11,
   "id": "16e6318a-9411-4f22-9cfe-f7d231cf9fe3",
   "metadata": {
    "executionCancelledAt": null,
    "executionTime": 47,
    "lastExecutedAt": 1709972689716,
    "lastScheduledRunId": null,
    "lastSuccessfullyExecutedCode": "# check for duplicate values\nrecipes.duplicated().sum()"
   },
   "outputs": [
    {
     "data": {
      "text/plain": [
       "0"
      ]
     },
     "execution_count": 11,
     "metadata": {},
     "output_type": "execute_result"
    }
   ],
   "source": [
    "# check for duplicate values\n",
    "recipes.duplicated().sum()"
   ]
  },
  {
   "cell_type": "code",
   "execution_count": 12,
   "id": "ac019a0a-88e1-457f-b194-1a40c48a0ce4",
   "metadata": {
    "executionCancelledAt": null,
    "executionTime": 55,
    "lastExecutedAt": 1709972689772,
    "lastScheduledRunId": null,
    "lastSuccessfullyExecutedCode": "# check data types\nrecipes.dtypes"
   },
   "outputs": [
    {
     "data": {
      "text/plain": [
       "recipe            int64\n",
       "calories        float64\n",
       "carbohydrate    float64\n",
       "sugar           float64\n",
       "protein         float64\n",
       "category         object\n",
       "servings         object\n",
       "high_traffic     object\n",
       "dtype: object"
      ]
     },
     "execution_count": 12,
     "metadata": {},
     "output_type": "execute_result"
    }
   ],
   "source": [
    "# check data types\n",
    "recipes.dtypes"
   ]
  },
  {
   "cell_type": "code",
   "execution_count": 13,
   "id": "8bca60a1-4fa9-4e47-922e-d3855a8e1806",
   "metadata": {
    "chartConfig": {
     "bar": {
      "hasRoundedCorners": true,
      "stacked": false
     },
     "type": "bar",
     "version": "v1"
    },
    "executionCancelledAt": null,
    "executionTime": 51,
    "lastExecutedAt": 1709972689824,
    "lastScheduledRunId": null,
    "lastSuccessfullyExecutedCode": "# stats for numeric variables\nrecipes.describe()",
    "outputsMetadata": {
     "0": {
      "height": 271,
      "type": "dataFrame"
     }
    },
    "visualizeDataframe": false
   },
   "outputs": [
    {
     "data": {
      "text/html": [
       "<div>\n",
       "<style scoped>\n",
       "    .dataframe tbody tr th:only-of-type {\n",
       "        vertical-align: middle;\n",
       "    }\n",
       "\n",
       "    .dataframe tbody tr th {\n",
       "        vertical-align: top;\n",
       "    }\n",
       "\n",
       "    .dataframe thead th {\n",
       "        text-align: right;\n",
       "    }\n",
       "</style>\n",
       "<table border=\"1\" class=\"dataframe\">\n",
       "  <thead>\n",
       "    <tr style=\"text-align: right;\">\n",
       "      <th></th>\n",
       "      <th>recipe</th>\n",
       "      <th>calories</th>\n",
       "      <th>carbohydrate</th>\n",
       "      <th>sugar</th>\n",
       "      <th>protein</th>\n",
       "    </tr>\n",
       "  </thead>\n",
       "  <tbody>\n",
       "    <tr>\n",
       "      <th>count</th>\n",
       "      <td>947.000000</td>\n",
       "      <td>895.000000</td>\n",
       "      <td>895.000000</td>\n",
       "      <td>895.000000</td>\n",
       "      <td>895.000000</td>\n",
       "    </tr>\n",
       "    <tr>\n",
       "      <th>mean</th>\n",
       "      <td>474.000000</td>\n",
       "      <td>435.939196</td>\n",
       "      <td>35.069676</td>\n",
       "      <td>9.046547</td>\n",
       "      <td>24.149296</td>\n",
       "    </tr>\n",
       "    <tr>\n",
       "      <th>std</th>\n",
       "      <td>273.519652</td>\n",
       "      <td>453.020997</td>\n",
       "      <td>43.949032</td>\n",
       "      <td>14.679176</td>\n",
       "      <td>36.369739</td>\n",
       "    </tr>\n",
       "    <tr>\n",
       "      <th>min</th>\n",
       "      <td>1.000000</td>\n",
       "      <td>0.140000</td>\n",
       "      <td>0.030000</td>\n",
       "      <td>0.010000</td>\n",
       "      <td>0.000000</td>\n",
       "    </tr>\n",
       "    <tr>\n",
       "      <th>25%</th>\n",
       "      <td>237.500000</td>\n",
       "      <td>110.430000</td>\n",
       "      <td>8.375000</td>\n",
       "      <td>1.690000</td>\n",
       "      <td>3.195000</td>\n",
       "    </tr>\n",
       "    <tr>\n",
       "      <th>50%</th>\n",
       "      <td>474.000000</td>\n",
       "      <td>288.550000</td>\n",
       "      <td>21.480000</td>\n",
       "      <td>4.550000</td>\n",
       "      <td>10.800000</td>\n",
       "    </tr>\n",
       "    <tr>\n",
       "      <th>75%</th>\n",
       "      <td>710.500000</td>\n",
       "      <td>597.650000</td>\n",
       "      <td>44.965000</td>\n",
       "      <td>9.800000</td>\n",
       "      <td>30.200000</td>\n",
       "    </tr>\n",
       "    <tr>\n",
       "      <th>max</th>\n",
       "      <td>947.000000</td>\n",
       "      <td>3633.160000</td>\n",
       "      <td>530.420000</td>\n",
       "      <td>148.750000</td>\n",
       "      <td>363.360000</td>\n",
       "    </tr>\n",
       "  </tbody>\n",
       "</table>\n",
       "</div>"
      ],
      "text/plain": [
       "           recipe     calories  carbohydrate       sugar     protein\n",
       "count  947.000000   895.000000    895.000000  895.000000  895.000000\n",
       "mean   474.000000   435.939196     35.069676    9.046547   24.149296\n",
       "std    273.519652   453.020997     43.949032   14.679176   36.369739\n",
       "min      1.000000     0.140000      0.030000    0.010000    0.000000\n",
       "25%    237.500000   110.430000      8.375000    1.690000    3.195000\n",
       "50%    474.000000   288.550000     21.480000    4.550000   10.800000\n",
       "75%    710.500000   597.650000     44.965000    9.800000   30.200000\n",
       "max    947.000000  3633.160000    530.420000  148.750000  363.360000"
      ]
     },
     "execution_count": 13,
     "metadata": {},
     "output_type": "execute_result"
    }
   ],
   "source": [
    "# stats for numeric variables\n",
    "recipes.describe()"
   ]
  },
  {
   "cell_type": "code",
   "execution_count": 14,
   "id": "bd804460-ec39-4e46-9beb-ae4de6ca66e4",
   "metadata": {
    "executionCancelledAt": null,
    "executionTime": 53,
    "lastExecutedAt": 1709972689877,
    "lastScheduledRunId": null,
    "lastSuccessfullyExecutedCode": "# stats for object variables\nrecipes.describe(include=['object'])",
    "outputsMetadata": {
     "0": {
      "height": 171,
      "type": "dataFrame"
     }
    }
   },
   "outputs": [
    {
     "data": {
      "text/html": [
       "<div>\n",
       "<style scoped>\n",
       "    .dataframe tbody tr th:only-of-type {\n",
       "        vertical-align: middle;\n",
       "    }\n",
       "\n",
       "    .dataframe tbody tr th {\n",
       "        vertical-align: top;\n",
       "    }\n",
       "\n",
       "    .dataframe thead th {\n",
       "        text-align: right;\n",
       "    }\n",
       "</style>\n",
       "<table border=\"1\" class=\"dataframe\">\n",
       "  <thead>\n",
       "    <tr style=\"text-align: right;\">\n",
       "      <th></th>\n",
       "      <th>category</th>\n",
       "      <th>servings</th>\n",
       "      <th>high_traffic</th>\n",
       "    </tr>\n",
       "  </thead>\n",
       "  <tbody>\n",
       "    <tr>\n",
       "      <th>count</th>\n",
       "      <td>947</td>\n",
       "      <td>947</td>\n",
       "      <td>574</td>\n",
       "    </tr>\n",
       "    <tr>\n",
       "      <th>unique</th>\n",
       "      <td>11</td>\n",
       "      <td>6</td>\n",
       "      <td>1</td>\n",
       "    </tr>\n",
       "    <tr>\n",
       "      <th>top</th>\n",
       "      <td>Breakfast</td>\n",
       "      <td>4</td>\n",
       "      <td>High</td>\n",
       "    </tr>\n",
       "    <tr>\n",
       "      <th>freq</th>\n",
       "      <td>106</td>\n",
       "      <td>389</td>\n",
       "      <td>574</td>\n",
       "    </tr>\n",
       "  </tbody>\n",
       "</table>\n",
       "</div>"
      ],
      "text/plain": [
       "         category servings high_traffic\n",
       "count         947      947          574\n",
       "unique         11        6            1\n",
       "top     Breakfast        4         High\n",
       "freq          106      389          574"
      ]
     },
     "execution_count": 14,
     "metadata": {},
     "output_type": "execute_result"
    }
   ],
   "source": [
    "# stats for object variables\n",
    "recipes.describe(include=['object'])"
   ]
  },
  {
   "cell_type": "markdown",
   "id": "69600b00-f5f5-4b23-9595-25d013559a0e",
   "metadata": {},
   "source": [
    "## Initial Data Cleaning"
   ]
  },
  {
   "cell_type": "code",
   "execution_count": 16,
   "id": "3c1c1821-b192-490f-9516-54efd84c1877",
   "metadata": {
    "executionCancelledAt": null,
    "executionTime": 56,
    "lastExecutedAt": 1709972689933,
    "lastScheduledRunId": null,
    "lastSuccessfullyExecutedCode": "# reset initial index\nrecipes.reset_index(drop=True, inplace=True)\n\n# set index to recipe\nrecipes.set_index('recipe', inplace=True)\n\nprint(recipes.index)",
    "outputsMetadata": {
     "0": {
      "height": 101,
      "type": "stream"
     }
    }
   },
   "outputs": [
    {
     "name": "stdout",
     "output_type": "stream",
     "text": [
      "Index([  1,   2,   3,   4,   5,   6,   7,   8,   9,  10,\n",
      "       ...\n",
      "       938, 939, 940, 941, 942, 943, 944, 945, 946, 947],\n",
      "      dtype='int64', name='recipe', length=947)\n"
     ]
    }
   ],
   "source": [
    "# reset initial index\n",
    "recipes.reset_index(drop=True, inplace=True)\n",
    "\n",
    "# set index to recipe\n",
    "recipes.set_index('recipe', inplace=True)\n",
    "\n",
    "print(recipes.index)"
   ]
  },
  {
   "cell_type": "code",
   "execution_count": 17,
   "id": "550cbd92-6d24-424f-95a5-c876ee39af47",
   "metadata": {
    "executionCancelledAt": null,
    "executionTime": 51,
    "lastExecutedAt": 1709972689984,
    "lastScheduledRunId": null,
    "lastSuccessfullyExecutedCode": "# display counts of the different categories \nprint(recipes['category'].value_counts(dropna=False))\n\n# convert to categorical type\nrecipes['category'] = recipes['category'].astype('category')\n\nprint(recipes['category'].dtype)",
    "outputsMetadata": {
     "0": {
      "height": 290,
      "type": "stream"
     }
    }
   },
   "outputs": [
    {
     "name": "stdout",
     "output_type": "stream",
     "text": [
      "category\n",
      "Breakfast         106\n",
      "Chicken Breast     98\n",
      "Beverages          92\n",
      "Lunch/Snacks       89\n",
      "Potato             88\n",
      "Pork               84\n",
      "Vegetable          83\n",
      "Dessert            83\n",
      "Meat               79\n",
      "Chicken            74\n",
      "One Dish Meal      71\n",
      "Name: count, dtype: int64\n",
      "category\n"
     ]
    }
   ],
   "source": [
    "# display counts of the different categories \n",
    "print(recipes['category'].value_counts(dropna=False))\n",
    "\n",
    "# convert to categorical type\n",
    "recipes['category'] = recipes['category'].astype('category')\n",
    "\n",
    "print(recipes['category'].dtype)"
   ]
  },
  {
   "cell_type": "code",
   "execution_count": 18,
   "id": "7a91aba4-fbe1-45b4-8853-d0f9a2fb7b44",
   "metadata": {
    "executionCancelledAt": null,
    "executionTime": 52,
    "lastExecutedAt": 1709972690036,
    "lastScheduledRunId": null,
    "lastSuccessfullyExecutedCode": "# analyze the 'servings' variable\nrecipes['servings'].value_counts(dropna=False)\n\n# convert 'servings' column to string type, then to numeric by extracting the first number\nrecipes['servings'] = recipes['servings'].astype(str).str.extract('(\\d+)').astype(int)\n\n# this feature appears to be best suited to be an ordered categorical variable, so will change the datatype\n\n# define the order of the categories\nservings_order = [1, 2, 4, 6]\n\n# convert to ordered categorical variable\nrecipes['servings'] = pd.Categorical(recipes['servings'], categories=servings_order, ordered=True)\n\n# verify datatype\nprint(recipes['servings'].dtype)\n",
    "outputsMetadata": {
     "0": {
      "height": 38,
      "type": "stream"
     }
    }
   },
   "outputs": [
    {
     "name": "stdout",
     "output_type": "stream",
     "text": [
      "category\n"
     ]
    }
   ],
   "source": [
    "# analyze the 'servings' variable\n",
    "recipes['servings'].value_counts(dropna=False)\n",
    "\n",
    "# convert 'servings' column to string type, then to numeric by extracting the first number\n",
    "recipes['servings'] = recipes['servings'].astype(str).str.extract('(\\d+)').astype(int)\n",
    "\n",
    "# this feature appears to be best suited to be an ordered categorical variable, so will change the datatype\n",
    "\n",
    "# define the order of the categories\n",
    "servings_order = [1, 2, 4, 6]\n",
    "\n",
    "# convert to ordered categorical variable\n",
    "recipes['servings'] = pd.Categorical(recipes['servings'], categories=servings_order, ordered=True)\n",
    "\n",
    "# verify datatype\n",
    "print(recipes['servings'].dtype)\n"
   ]
  },
  {
   "cell_type": "code",
   "execution_count": 19,
   "id": "288b82ee-7d39-4d52-b970-0b6c1f021747",
   "metadata": {
    "executionCancelledAt": null,
    "executionTime": 52,
    "lastExecutedAt": 1709972690088,
    "lastScheduledRunId": null,
    "lastSuccessfullyExecutedCode": "# fill missing high_traffic values\n# for the target variable, Nan actually represents the values that are not 'High'.  \n\n# fill na values (not high traffic) with 0\nrecipes['high_traffic'].fillna(0, inplace=True)\n\n# change high_traffic to 1\nrecipes.loc[recipes['high_traffic'] == 'High', 'high_traffic'] = 1\n\n# convert to binary (integer)\nrecipes['high_traffic'] = recipes['high_traffic'].astype('int')\n\nprint(recipes['high_traffic'].value_counts())\n",
    "outputsMetadata": {
     "0": {
      "height": 80,
      "type": "stream"
     }
    }
   },
   "outputs": [
    {
     "name": "stdout",
     "output_type": "stream",
     "text": [
      "high_traffic\n",
      "1    574\n",
      "0    373\n",
      "Name: count, dtype: int64\n"
     ]
    }
   ],
   "source": [
    "# fill missing high_traffic values\n",
    "# for the target variable, Nan actually represents the values that are not 'High'.  \n",
    "\n",
    "# fill na values (not high traffic) with 0\n",
    "recipes['high_traffic'].fillna(0, inplace=True)\n",
    "\n",
    "# change high_traffic to 1\n",
    "recipes.loc[recipes['high_traffic'] == 'High', 'high_traffic'] = 1\n",
    "\n",
    "# convert to binary (integer)\n",
    "recipes['high_traffic'] = recipes['high_traffic'].astype('int')\n",
    "\n",
    "print(recipes['high_traffic'].value_counts())\n"
   ]
  },
  {
   "cell_type": "code",
   "execution_count": 20,
   "id": "5abf4c6f-f1a6-4889-8761-97d90adbaa85",
   "metadata": {
    "executionCancelledAt": null,
    "executionTime": 55,
    "lastExecutedAt": 1709972690144,
    "lastScheduledRunId": null,
    "lastSuccessfullyExecutedCode": "# fill missing values in 'protein', 'sugar', 'carbohydrate', and 'calories' with the median value of their respective category.\nfor column in ['protein', 'sugar', 'carbohydrate', 'calories']:\n    recipes[column] = recipes.groupby('category')[column].transform(lambda x: x.fillna(x.median()))\n"
   },
   "outputs": [
    {
     "name": "stderr",
     "output_type": "stream",
     "text": [
      "C:\\Users\\trobb\\AppData\\Local\\Temp\\ipykernel_9772\\558041826.py:3: FutureWarning: The default of observed=False is deprecated and will be changed to True in a future version of pandas. Pass observed=False to retain current behavior or observed=True to adopt the future default and silence this warning.\n",
      "  recipes[column] = recipes.groupby('category')[column].transform(lambda x: x.fillna(x.median()))\n"
     ]
    }
   ],
   "source": [
    "# fill missing values in 'protein', 'sugar', 'carbohydrate', and 'calories' with the median value of their respective category.\n",
    "for column in ['protein', 'sugar', 'carbohydrate', 'calories']:\n",
    "    recipes[column] = recipes.groupby('category')[column].transform(lambda x: x.fillna(x.median()))\n"
   ]
  },
  {
   "cell_type": "code",
   "execution_count": 21,
   "id": "9fc3cd59-a289-4fe5-8d5f-11eb73e695b3",
   "metadata": {
    "executionCancelledAt": null,
    "executionTime": 51,
    "lastExecutedAt": 1709972690196,
    "lastScheduledRunId": null,
    "lastSuccessfullyExecutedCode": "# recheck for missing values\nrecipes.isna().sum()"
   },
   "outputs": [
    {
     "data": {
      "text/plain": [
       "calories        0\n",
       "carbohydrate    0\n",
       "sugar           0\n",
       "protein         0\n",
       "category        0\n",
       "servings        0\n",
       "high_traffic    0\n",
       "dtype: int64"
      ]
     },
     "execution_count": 21,
     "metadata": {},
     "output_type": "execute_result"
    }
   ],
   "source": [
    "# recheck for missing values\n",
    "recipes.isna().sum()"
   ]
  },
  {
   "cell_type": "code",
   "execution_count": 22,
   "id": "895deb92-6ca9-4511-9d4b-2ddaab6f5099",
   "metadata": {
    "executionCancelledAt": null,
    "executionTime": 56,
    "lastExecutedAt": 1709972690252,
    "lastScheduledRunId": null,
    "lastSuccessfullyExecutedCode": "# check adjusted datatypes\nrecipes.dtypes"
   },
   "outputs": [
    {
     "data": {
      "text/plain": [
       "calories         float64\n",
       "carbohydrate     float64\n",
       "sugar            float64\n",
       "protein          float64\n",
       "category        category\n",
       "servings        category\n",
       "high_traffic       int32\n",
       "dtype: object"
      ]
     },
     "execution_count": 22,
     "metadata": {},
     "output_type": "execute_result"
    }
   ],
   "source": [
    "# check adjusted datatypes\n",
    "recipes.dtypes"
   ]
  },
  {
   "cell_type": "markdown",
   "id": "5d6379bb-5543-4bfc-8ac2-8df1609fd711",
   "metadata": {},
   "source": [
    "The dataset contains 947 rows and 8 columns:\n",
    "\n",
    "- **recipe**: This numeric (int64) variable serves as the unique identifier for each recipe, as specified in the data dictionary. The values are consecutive, ranging from 1 to 947, with no duplicates or missing values. Recipe has been set as the index of the dataframe.  No additional cleaning is required.\n",
    "\n",
    "- **calories**: A numeric (float64) variable that represents the number of calories, as stated in the data dictionary. This column had 52 missing values, which were imputed using the median of the calories group, as the median is more robust to outliers than the mean. The calorie count ranges from 0.14 to 3,633.16. The significant difference between the mean (435.94) and the median (288.55) could indicate the presence of outliers. During the model preprocessing phase, this variable was transformed using a log-transformation and scaled using RobustScaler, which works good against outliers.\n",
    "\n",
    "- **carbohydrate**: This numeric (float64) variable represents the amount of carbohydrates in grams, as detailed in the data dictionary. There were 52 missing values, which were filled through median imputation. The carbohydrate content ranges from 0.03 grams to 530.42 grams. The mean (35.07) and median (21.48) values differ significantly, possibly indicating outliers. During the model preprocessing phase, this variable was transformed using a log-transformation and scaled using RobustScaler.\n",
    "\n",
    "- **sugar**: A numeric (float64) variable that indicates the amount of sugar in grams. This column had 52 missing values, which were addressed by median imputation. The sugar content ranges from 0.01 to 148.75. The mean (9.05) and median (4.55) values also vary, suggesting the possibility of outliers. During the preprocessing phase, this variable was transformed using a log-transformation and scaled using RobustScaler.\n",
    "\n",
    "- **protein**: There were 52 missing values, filled using median imputation. This numeric (float64) variable represents the protein content in grams. The range is from 0.0 to 363.36, with a mean of 24.15 and a median of 10.8. This variance could also hint at potential outliers. During the preprocessing phase, this variable was transformed using a log-transformation and scaled using RobustScaler\n",
    "\n",
    "- **category**: This variable is a character/object type, as indicated in the data dictionary, and contains 11 unique values (Breakfast, Chicken Breast, Beverages, Lunch/Snacks, Potato, Pork, Vegetable, Dessert, Meat, Chicken, One Dish Meal), one more than the 10 listed in the data dictionary, as chicken breast was initially left out. It has been converted to a categorical data type to enhance data processing efficiency and enable more intuitive analysis, as it represents the food category for each recipe. There is no hierarchical order among the categories, and there are no missing values. During the model preprocessing phase, one-hot coding was applied to category to convert to numeric variables, as the models only accept numerical input.\n",
    "\n",
    "- **servings**: This variable, of the character/object data type in Python, represents the number of servings for each recipe, not 100% numeric as stated in the data dictionary. It includes six different values: 1, 2, 4, 6, '4 as a snack', and '6 as a snack'. The 'as a snack' values were standardized by extracting the first character, and then converting them to an ordered categorical format. This approach will preserve the inherent categorical nature of the data and ensure better compatibility with various analytical models. There are no missing values. Similar to 'category', one-hot coding was applied to handle the categorical encoding during the model reprocessing phase.\n",
    "\n",
    "- **high_traffic**: This character/object variable, as mentioned in the data dictionary, marks recipes with \"High\" if they experienced high traffic. Recipes not marked are shown as NaN in the dataset. There are 574 recipes marked as \"high\" and 373 that are not. The term 'High' was changed to 1, and the NaN values were changed to 0 to prepare the date for modeling. After this modification, there are no missing values.\n"
   ]
  },
  {
   "cell_type": "markdown",
   "id": "9cd3a992-13b8-4a0b-b6ca-075c1cbe73d2",
   "metadata": {},
   "source": [
    "# Exploratory Analysis"
   ]
  },
  {
   "cell_type": "markdown",
   "id": "db8d00c9-2bff-4a12-8128-07688aff60a5",
   "metadata": {},
   "source": [
    "## Target Variable - high_traffic"
   ]
  },
  {
   "cell_type": "code",
   "execution_count": 26,
   "id": "1fb3de67-ae9c-46a2-baae-6c33b17534a8",
   "metadata": {
    "executionCancelledAt": null,
    "executionTime": 128,
    "lastExecutedAt": 1709972690381,
    "lastScheduledRunId": null,
    "lastSuccessfullyExecutedCode": "# countplot of high_traffic (target) variable\nfig, ax = plt.subplots()\n\nsns.countplot(x='high_traffic', data=recipes)\nax.set(title='Distribution of \"high_traffic\" Variable', xlabel='High Traffic', ylabel='Recipe Count')\nax.set_xticklabels(['No', 'Yes'])\n\nplt.show()"
   },
   "outputs": [
    {
     "name": "stderr",
     "output_type": "stream",
     "text": [
      "C:\\Users\\trobb\\AppData\\Local\\Temp\\ipykernel_9772\\3203155621.py:6: UserWarning: set_ticklabels() should only be used with a fixed number of ticks, i.e. after set_ticks() or using a FixedLocator.\n",
      "  ax.set_xticklabels(['No', 'Yes'])\n"
     ]
    },
    {
     "data": {
      "image/png": "[encoded data removed]",
      "text/plain": [
       "<Figure size 640x480 with 1 Axes>"
      ]
     },
     "metadata": {},
     "output_type": "display_data"
    }
   ],
   "source": [
    "# countplot of high_traffic (target) variable\n",
    "fig, ax = plt.subplots()\n",
    "\n",
    "sns.countplot(x='high_traffic', data=recipes)\n",
    "ax.set(title='Distribution of \"high_traffic\" Variable', xlabel='High Traffic', ylabel='Recipe Count')\n",
    "ax.set_xticklabels(['No', 'Yes'])\n",
    "\n",
    "plt.show()"
   ]
  },
  {
   "cell_type": "markdown",
   "id": "d10a3e51-6cfe-4cc6-8e92-6deeb4e25f97",
   "metadata": {},
   "source": [
    "The target variable has 574 recipes that are rated high (marked as 1) and 373 not rated high (marked as 0), which appears to be a slight imbalance. In an unbalanced dataset, there is a \"highly unequal\" (such as 900 to  100) distribution of classes in the target column. However, I would consider the below a balanced dataset as there is an \"approximately equal\" distribution of the two classes."
   ]
  },
  {
   "cell_type": "markdown",
   "id": "b1192752-4119-4e70-854e-00ea8f40d58e",
   "metadata": {},
   "source": [
    "## Numeric Variables"
   ]
  },
  {
   "cell_type": "code",
   "execution_count": 29,
   "id": "c5a0abca-bc4d-4880-86aa-e0dc835cbb8b",
   "metadata": {
    "executionCancelledAt": null,
    "executionTime": 1294,
    "lastExecutedAt": 1709972691675,
    "lastScheduledRunId": null,
    "lastSuccessfullyExecutedCode": "# select numeric columns for plotting\nnumeric_columns = ['calories', 'carbohydrate', 'protein', 'sugar']\n\n# set number of rows based on number of numeric columns\nnum_rows = len(numeric_columns)\n\n# create subplots, set figsize\nfig, axes = plt.subplots(nrows=num_rows, ncols=2, figsize=(12, num_rows * 4))\n\n# loop through relevant numeric variables\nfor i, col in enumerate(numeric_columns):\n    # plot histogram on the left\n    sns.histplot(recipes[col], ax=axes[i, 0])\n    axes[i, 0].set_title(f'Histogram of {col}')\n\n    # plot boxplot on the right\n    sns.boxplot(x=recipes[col], ax=axes[i, 1])\n    axes[i, 1].set_title(f'Boxplot of {col}')\n\n# display plot\nplt.tight_layout()\nplt.show()"
   },
   "outputs": [
    {
     "data": {
      "image/png": "[encoded data removed]",
      "text/plain": [
       "<Figure size 1200x1600 with 8 Axes>"
      ]
     },
     "metadata": {},
     "output_type": "display_data"
    }
   ],
   "source": [
    "# select numeric columns for plotting\n",
    "numeric_columns = ['calories', 'carbohydrate', 'protein', 'sugar']\n",
    "\n",
    "# set number of rows based on number of numeric columns\n",
    "num_rows = len(numeric_columns)\n",
    "\n",
    "# create subplots, set figsize\n",
    "fig, axes = plt.subplots(nrows=num_rows, ncols=2, figsize=(12, num_rows * 4))\n",
    "\n",
    "# loop through relevant numeric variables\n",
    "for i, col in enumerate(numeric_columns):\n",
    "    # plot histogram on the left\n",
    "    sns.histplot(recipes[col], ax=axes[i, 0])\n",
    "    axes[i, 0].set_title(f'Histogram of {col}')\n",
    "\n",
    "    # plot boxplot on the right\n",
    "    sns.boxplot(x=recipes[col], ax=axes[i, 1])\n",
    "    axes[i, 1].set_title(f'Boxplot of {col}')\n",
    "\n",
    "# display plot\n",
    "plt.tight_layout()\n",
    "plt.show()"
   ]
  },
  {
   "cell_type": "markdown",
   "id": "54166112-0434-4cc7-94dd-68a5039230d5",
   "metadata": {},
   "source": [
    "- Calories: The histogram appears to be right-skewed, indicating that most recipes have lower calorie counts, with fewer recipes having very high calorie values. The boxplot indicates the presence of outliers above the upper whisker, suggesting that some recipes have significantly higher calories than the rest.\n",
    "\n",
    "- Carbohydrate: The histogram also seems right-skewed, similar to the one for calories, with most recipes featuring lower carbohydrate content. The boxplot similarly identifies outliers on the higher end, indicating some recipes with exceptionally high carbohydrate content.\n",
    "\n",
    "- Protein: The histogram for protein is also right-skewed, implying that most recipes contain lower levels of protein. The boxplot reveals outliers, suggesting that some recipes are exceptionally high in protein.\n",
    "\n",
    "- Sugar: This histogram exhibits a right-skewed distribution as well, indicating that most recipes contain lower amounts of sugar. The accompanying boxplot shows several outliers, suggesting some recipes have unusually high sugar content.\n"
   ]
  },
  {
   "cell_type": "markdown",
   "id": "d1753856-628f-4622-8c32-1276c57b5990",
   "metadata": {},
   "source": [
    "### Correlation Among Numeric Variables"
   ]
  },
  {
   "cell_type": "code",
   "execution_count": 32,
   "id": "9594c81f-523c-473f-911c-484c95f21194",
   "metadata": {
    "executionCancelledAt": null,
    "executionTime": 233,
    "lastExecutedAt": 1709972691909,
    "lastScheduledRunId": null,
    "lastSuccessfullyExecutedCode": "# select columns for heatmap\nnumeric = recipes[['calories', 'carbohydrate', 'sugar', 'protein', 'high_traffic']]\n\n# determine correlation\nnum = numeric.corr()\n\n# set figsize\nfig, ax = plt.subplots(figsize=(6, 6))\n\n# plot heatmap\nsns.heatmap(num, annot=True, fmt='.2f', square=True, vmin=-0.10, vmax=0.18, cmap='coolwarm')\nax.set_title('Correlation Matrix - Numeric Variables')\n\n# display plot\nplt.tight_layout()\nplt.show()"
   },
   "outputs": [
    {
     "data": {
      "image/png": "[encoded data removed]",
      "text/plain": [
       "<Figure size 600x600 with 2 Axes>"
      ]
     },
     "metadata": {},
     "output_type": "display_data"
    }
   ],
   "source": [
    "# select columns for heatmap\n",
    "numeric = recipes[['calories', 'carbohydrate', 'sugar', 'protein', 'high_traffic']]\n",
    "\n",
    "# determine correlation\n",
    "num = numeric.corr()\n",
    "\n",
    "# set figsize\n",
    "fig, ax = plt.subplots(figsize=(6, 6))\n",
    "\n",
    "# plot heatmap\n",
    "sns.heatmap(num, annot=True, fmt='.2f', square=True, vmin=-0.10, vmax=0.18, cmap='coolwarm')\n",
    "ax.set_title('Correlation Matrix - Numeric Variables')\n",
    "\n",
    "# display plot\n",
    "plt.tight_layout()\n",
    "plt.show()"
   ]
  },
  {
   "cell_type": "markdown",
   "id": "bbfc06b4-1b7c-4fc2-a535-c9746c25074b",
   "metadata": {},
   "source": [
    "As can be seen in the correlation heatmap above, there appears to be very little correlation among the numeric variables:\n",
    "\n",
    "- calories show a slightly positive correlation with protein (0.18), suggesting that as calorie content increases, protein content tends to increase as well, although weakly.\n",
    "- The other variables show very weak to no correlation with each other and with high_traffic. The correlation coefficients are all close to zero, suggesting there is no strong linear relationship between these variables.\n"
   ]
  },
  {
   "cell_type": "markdown",
   "id": "f0bb1008-7c8f-471b-ba04-27c6ad6f24cb",
   "metadata": {},
   "source": [
    "## Categorical Variables"
   ]
  },
  {
   "cell_type": "code",
   "execution_count": 35,
   "id": "1d65cd89-7add-4de9-85f2-d366a906db2f",
   "metadata": {
    "executionCancelledAt": null,
    "executionTime": 205,
    "lastExecutedAt": 1709972692114,
    "lastScheduledRunId": null,
    "lastSuccessfullyExecutedCode": "# count the number of high and low traffic recipes in each category\ntraffic_counts = recipes.groupby('category')['high_traffic'].value_counts(normalize=True).unstack()\n\n# reverse the order of the columns for stacking and sorting by 'Yes' proportion\nreversed_columns = traffic_counts.columns[::-1]\ntraffic_counts = traffic_counts[reversed_columns]\n\n# sort by 'Yes' proportion\ntraffic_counts_sorted = traffic_counts.sort_values(by=1, ascending=False)\n\n# define paette that is a colorblind-friendly\ncolors = sns.color_palette(\"colorblind\")[:2]\n\n# plot sorted horizontal stacked bar chart\nplt.figure(figsize=(14, 10))\ntraffic_counts_sorted.plot(kind='barh', stacked=True, color=colors, figsize=(10, 6))\nplt.xlabel('Proportion')\nplt.ylabel('Category')\nplt.title('Proportion of High and Low Traffic Recipes by Category')\n\nplt.legend(title='High Traffic', labels=['Yes', 'No'], loc='center left', bbox_to_anchor=(1, 0.5))\n\n# to display the highest 'Yes' proportion at the top\nplt.gca().invert_yaxis() \nplt.show()"
   },
   "outputs": [
    {
     "name": "stderr",
     "output_type": "stream",
     "text": [
      "C:\\Users\\trobb\\AppData\\Local\\Temp\\ipykernel_9772\\382735112.py:2: FutureWarning: The default of observed=False is deprecated and will be changed to True in a future version of pandas. Pass observed=False to retain current behavior or observed=True to adopt the future default and silence this warning.\n",
      "  traffic_counts = recipes.groupby('category')['high_traffic'].value_counts(normalize=True).unstack()\n"
     ]
    },
    {
     "data": {
      "text/plain": [
       "<Figure size 1400x1000 with 0 Axes>"
      ]
     },
     "metadata": {},
     "output_type": "display_data"
    },
    {
     "data": {
      "image/png": "[encoded data removed]",
      "text/plain": [
       "<Figure size 1000x600 with 1 Axes>"
      ]
     },
     "metadata": {},
     "output_type": "display_data"
    }
   ],
   "source": [
    "# count the number of high and low traffic recipes in each category\n",
    "traffic_counts = recipes.groupby('category')['high_traffic'].value_counts(normalize=True).unstack()\n",
    "\n",
    "# reverse the order of the columns for stacking and sorting by 'Yes' proportion\n",
    "reversed_columns = traffic_counts.columns[::-1]\n",
    "traffic_counts = traffic_counts[reversed_columns]\n",
    "\n",
    "# sort by 'Yes' proportion\n",
    "traffic_counts_sorted = traffic_counts.sort_values(by=1, ascending=False)\n",
    "\n",
    "# define paette that is a colorblind-friendly\n",
    "colors = sns.color_palette(\"colorblind\")[:2]\n",
    "\n",
    "# plot sorted horizontal stacked bar chart\n",
    "plt.figure(figsize=(14, 10))\n",
    "traffic_counts_sorted.plot(kind='barh', stacked=True, color=colors, figsize=(10, 6))\n",
    "plt.xlabel('Proportion')\n",
    "plt.ylabel('Category')\n",
    "plt.title('Proportion of High and Low Traffic Recipes by Category')\n",
    "\n",
    "plt.legend(title='High Traffic', labels=['Yes', 'No'], loc='center left', bbox_to_anchor=(1, 0.5))\n",
    "\n",
    "# to display the highest 'Yes' proportion at the top\n",
    "plt.gca().invert_yaxis() \n",
    "plt.show()"
   ]
  },
  {
   "cell_type": "markdown",
   "id": "f22597e2-e36b-4b4d-9a18-f5fb769af8e4",
   "metadata": {},
   "source": [
    "There is a noticeable variation in the proportions of high and low traffic recipes among different categories. Some categories, such as Vegetable, Potatoe, and Pork, have a significantly higher proportion of high traffic recipes, possibly indicating a stronger user interest or demand.\n",
    "\n",
    "Categories with higher proportions of high traffic recipes might be given more prominence on the site, or the site could focus on adding more recipes in these popular categories. Conversely, categories with lower proportions of high traffic might be areas for investigation to understand why they are less popular and how they can be improved."
   ]
  },
  {
   "cell_type": "markdown",
   "id": "774837ca-1311-4152-a7d6-119f4b8f2afb",
   "metadata": {},
   "source": [
    "# Model **Development**"
   ]
  },
  {
   "cell_type": "markdown",
   "id": "4090e92d-6b9d-4767-811c-e9b5e4b5672d",
   "metadata": {},
   "source": [
    "Since we're predicting one of two possible outcomes (high traffic or not) it's a binary classification problem.\n",
    "\n",
    "I chose to use a random forest classifier as my baseline model, as they are inherently robust to outliers and make no assumptions about the data distribution.\n",
    "\n",
    "The comparison model I am using is a gradient boosting machine (GBM) classifier, as it is also suitable for datasets where outliers are present and can handle complex, non-linear relationships which are common in skewed datasets.\n",
    "\n",
    "For both models, it's important to note that while they have good native resilience to outliers and skewed data, best practices still recommend preprocessing steps such as outlier detection and removal, or transformations to reduce skewness, to potentially improve model performance. This will be handled during data preprocessing.\n",
    "\n",
    "To initially evaluate the models, I will be using the F1 score. The F1 score is the harmonic mean of precision and recall and provides a single metric that balances the two. In our scenario, where both capturing as many high traffic recipes as possible (high recall) and maintaining the accuracy of the high traffic prediction (high precision) are important, I believe the F1 score is more appropriate than using recall or precision alone at this point in the project."
   ]
  },
  {
   "cell_type": "markdown",
   "id": "59b5af3c-ce88-41f5-a8fc-a419533f6dec",
   "metadata": {},
   "source": [
    "## Data Preprocessing"
   ]
  },
  {
   "cell_type": "markdown",
   "id": "ff95bcce-bffe-47fa-b56a-983145f41dde",
   "metadata": {},
   "source": [
    "First, I divided the dataset into training and testing sets to assure an accurate evaluation of our models, while preventing any data leakage. Our dataset is made up of two categorical columns, 'category' and 'servings', alongside several numerical columns. For these numerical columns, I employed a log transformation to normalize their distribution, followed by scaling with a RobustScaler. This scaler is particularly effective as it's resilient to outliers. For the categorical columns, 'category' and 'servings', I implemented one-hot encoding to convert them into a machine-learning-friendly format. All these steps were efficiently integrated into a pipeline, enhancing the organization and clarity of our code. Subsequently, both the training and testing sets were converted back to pandas DataFrames, maintaining their original column names for easier interpretation. \n"
   ]
  },
  {
   "cell_type": "code",
   "execution_count": 41,
   "id": "a1fda45b-9d06-4c5e-a34d-1b85fd6804ba",
   "metadata": {
    "executionCancelledAt": null,
    "executionTime": 54,
    "lastExecutedAt": 1709972692168,
    "lastScheduledRunId": null,
    "lastSuccessfullyExecutedCode": "# define features and target variable\nX = recipes.drop('high_traffic', axis=1)\ny = recipes['high_traffic']\n\n# split into training and testing sets (prior to applying transformations to prevent data leakage)\nX_train, X_test, y_train, y_test = train_test_split(X, y, test_size=0.2, random_state=42)\n\n# identify categorical and numerical columns\ncategorical_cols = ['category']  # Add other categorical columns if needed\nnumerical_cols = X_train.select_dtypes(include=['int64', 'float64']).columns\n"
   },
   "outputs": [],
   "source": [
    "# define features and target variable\n",
    "X = recipes.drop('high_traffic', axis=1)\n",
    "y = recipes['high_traffic']\n",
    "\n",
    "# split into training and testing sets (prior to applying transformations to prevent data leakage)\n",
    "X_train, X_test, y_train, y_test = train_test_split(X, y, test_size=0.2, random_state=42)\n",
    "\n",
    "# identify categorical and numerical columns\n",
    "categorical_cols = ['category']  # Add other categorical columns if needed\n",
    "numerical_cols = X_train.select_dtypes(include=['int64', 'float64']).columns\n"
   ]
  },
  {
   "cell_type": "code",
   "execution_count": 42,
   "id": "5bdb2b61-67bf-479c-9906-1868a38b59be",
   "metadata": {
    "executionCancelledAt": null,
    "executionTime": 55,
    "lastExecutedAt": 1709972692224,
    "lastScheduledRunId": null,
    "lastSuccessfullyExecutedCode": "# function to apply log transformation\ndef log_transform(x):\n    return np.log1p(x)  # log1p is used to handle zero values in the data\n\n# pipeline for numeric transformations: apply log transformation and then scale\nnumeric_transformer = Pipeline(steps=[\n    ('log', FunctionTransformer(log_transform, validate=False)),  \n    ('scaler', RobustScaler())                                    \n])\n\n# pipeline for categorical transformations\ncategorical_transformer = OneHotEncoder(handle_unknown='ignore')\n\n# create column transformer\npreprocessor = ColumnTransformer(\n    transformers=[\n        ('num', numeric_transformer, numerical_cols),\n        ('cat', categorical_transformer, categorical_cols)\n    ])\n\n# fit and transform the training data\nX_train_encoded = preprocessor.fit_transform(X_train)\n\n# transform the test data\nX_test_encoded = preprocessor.transform(X_test)\n\n",
    "outputsMetadata": {
     "0": {
      "height": 37,
      "type": "stream"
     }
    }
   },
   "outputs": [],
   "source": [
    "# function to apply log transformation\n",
    "def log_transform(x):\n",
    "    return np.log1p(x)  # log1p is used to handle zero values in the data\n",
    "\n",
    "# pipeline for numeric transformations: apply log transformation and then scale\n",
    "numeric_transformer = Pipeline(steps=[\n",
    "    ('log', FunctionTransformer(log_transform, validate=False)),  \n",
    "    ('scaler', RobustScaler())                                    \n",
    "])\n",
    "\n",
    "# pipeline for categorical transformations\n",
    "categorical_transformer = OneHotEncoder(handle_unknown='ignore')\n",
    "\n",
    "# create column transformer\n",
    "preprocessor = ColumnTransformer(\n",
    "    transformers=[\n",
    "        ('num', numeric_transformer, numerical_cols),\n",
    "        ('cat', categorical_transformer, categorical_cols)\n",
    "    ])\n",
    "\n",
    "# fit and transform the training data\n",
    "X_train_encoded = preprocessor.fit_transform(X_train)\n",
    "\n",
    "# transform the test data\n",
    "X_test_encoded = preprocessor.transform(X_test)\n",
    "\n"
   ]
  },
  {
   "cell_type": "code",
   "execution_count": 43,
   "id": "b97ac7bc-9048-4d9f-b577-749fdba84582",
   "metadata": {
    "executionCancelledAt": null,
    "executionTime": 52,
    "lastExecutedAt": 1709972692276,
    "lastScheduledRunId": null,
    "lastSuccessfullyExecutedCode": "# convert matrices back to dataframe\n\n# extract feature names for the one-hot encoded categorical columns\ncategorical_feature_names = preprocessor.named_transformers_['cat'].get_feature_names_out(categorical_cols)\n\n# combine with numerical column names\nall_feature_names = numerical_cols.tolist() + categorical_feature_names.tolist()\n\n# convert the transformed training data back to a DataFrame\nX_train_encoded_df = pd.DataFrame(X_train_encoded, columns=all_feature_names, index=X_train.index)\n\n# convert the transformed test data back to a DataFrame\nX_test_encoded_df = pd.DataFrame(X_test_encoded, columns=all_feature_names, index=X_test.index)\n"
   },
   "outputs": [],
   "source": [
    "# convert matrices back to dataframe\n",
    "\n",
    "# extract feature names for the one-hot encoded categorical columns\n",
    "categorical_feature_names = preprocessor.named_transformers_['cat'].get_feature_names_out(categorical_cols)\n",
    "\n",
    "# combine with numerical column names\n",
    "all_feature_names = numerical_cols.tolist() + categorical_feature_names.tolist()\n",
    "\n",
    "# convert the transformed training data back to a DataFrame\n",
    "X_train_encoded_df = pd.DataFrame(X_train_encoded, columns=all_feature_names, index=X_train.index)\n",
    "\n",
    "# convert the transformed test data back to a DataFrame\n",
    "X_test_encoded_df = pd.DataFrame(X_test_encoded, columns=all_feature_names, index=X_test.index)\n"
   ]
  },
  {
   "cell_type": "markdown",
   "id": "cb619ccd-6480-4c84-8353-ceb462674370",
   "metadata": {},
   "source": [
    "## Baseline Model - Random Forest"
   ]
  },
  {
   "cell_type": "markdown",
   "id": "88fe2f58-6af7-4735-8d33-b752c2e00dec",
   "metadata": {},
   "source": [
    "For both of the models, I used Randomized Search for model optimization, as it's an efficient method to search the hyperparameter space for the best F1 score. Instead of exhaustively searching through all possible combinations of hyperparameters (which can be time-consuming and computationally expensive), Randomized Search randomly selects combinations and evaluates the model performance using cross-validation."
   ]
  },
  {
   "cell_type": "code",
   "execution_count": 46,
   "id": "f57ad35f-9958-4b77-90fb-ad995b01ce0c",
   "metadata": {
    "executionCancelledAt": null,
    "executionTime": 49848,
    "lastExecutedAt": 1709972742125,
    "lastScheduledRunId": null,
    "lastSuccessfullyExecutedCode": "# use randomized search to find the best parameters for the random forest model\n\n# define parameter grid using a collection of parameters\nparam_grid = {\n    'n_estimators': np.arange(100, 1001, 100),\n    'max_features': ['sqrt', 'log2'],\n    'max_depth': np.arange(10, 110, 10),\n    'min_samples_split': [2, 5, 10],\n    'min_samples_leaf': [1, 2, 4],\n    'bootstrap': [True, False]\n}\n\n# initialize random forest classifier\nrf = RandomForestClassifier(random_state=33)\n\n# set up randomized search\nrf_random_search = RandomizedSearchCV(\n    estimator=rf, \n    param_distributions=param_grid,\n    n_iter=100,\n    cv=5,\n    verbose=1,\n    random_state=33,\n    scoring='f1',  # used f1 scoring on initial models to get more balanced recall and f1\n    n_jobs=-1)\n\n# fit model\nrf_random_search.fit(X_train_encoded, y_train)\n\n# print the best parameters\nprint(\"Best Parameters:\", rf_random_search.best_params_)\n\n# evaluate the best model on the test set\nbest_rf = rf_random_search.best_estimator_\ny_pred_rf = best_rf.predict(X_test_encoded)\n\n# predict probabilities of positive class\ny_probs_rf = best_rf.predict_proba(X_test_encoded)[:, 1]\n",
    "outputsMetadata": {
     "0": {
      "height": 80,
      "type": "stream"
     }
    }
   },
   "outputs": [
    {
     "name": "stdout",
     "output_type": "stream",
     "text": [
      "Fitting 5 folds for each of 100 candidates, totalling 500 fits\n",
      "Best Parameters: {'n_estimators': 100, 'min_samples_split': 10, 'min_samples_leaf': 4, 'max_features': 'sqrt', 'max_depth': 10, 'bootstrap': True}\n"
     ]
    }
   ],
   "source": [
    "# use randomized search to find the best parameters for the random forest model\n",
    "\n",
    "# define parameter grid using a collection of parameters\n",
    "param_grid = {\n",
    "    'n_estimators': np.arange(100, 1001, 100),\n",
    "    'max_features': ['sqrt', 'log2'],\n",
    "    'max_depth': np.arange(10, 110, 10),\n",
    "    'min_samples_split': [2, 5, 10],\n",
    "    'min_samples_leaf': [1, 2, 4],\n",
    "    'bootstrap': [True, False]\n",
    "}\n",
    "\n",
    "# initialize random forest classifier\n",
    "rf = RandomForestClassifier(random_state=33)\n",
    "\n",
    "# set up randomized search\n",
    "rf_random_search = RandomizedSearchCV(\n",
    "    estimator=rf, \n",
    "    param_distributions=param_grid,\n",
    "    n_iter=100,\n",
    "    cv=5,\n",
    "    verbose=1,\n",
    "    random_state=33,\n",
    "    scoring='f1',  # used f1 scoring on initial models to get more balanced recall and f1\n",
    "    n_jobs=-1)\n",
    "\n",
    "# fit model\n",
    "rf_random_search.fit(X_train_encoded, y_train)\n",
    "\n",
    "# print the best parameters\n",
    "print(\"Best Parameters:\", rf_random_search.best_params_)\n",
    "\n",
    "# evaluate the best model on the test set\n",
    "best_rf = rf_random_search.best_estimator_\n",
    "y_pred_rf = best_rf.predict(X_test_encoded)\n",
    "\n",
    "# predict probabilities of positive class\n",
    "y_probs_rf = best_rf.predict_proba(X_test_encoded)[:, 1]\n"
   ]
  },
  {
   "cell_type": "markdown",
   "id": "f29153f5-f4ae-4c88-98b6-d7d4862aff35",
   "metadata": {},
   "source": [
    "## Comparison Model - Gradient Boosting Machine"
   ]
  },
  {
   "cell_type": "code",
   "execution_count": null,
   "id": "d598f5fa-f6fe-4ae4-8f5f-01b94566214a",
   "metadata": {
    "executionCancelledAt": null,
    "executionTime": 62062,
    "lastExecutedAt": 1709972804187,
    "lastScheduledRunId": null,
    "lastSuccessfullyExecutedCode": "# gradient boosting model\n\n# define the parameter grid\nparam_grid = {\n    'n_estimators': np.arange(100, 1001, 100),\n    'learning_rate': [0.001, 0.01, 0.1, 0.2, 0.3],\n    'max_depth': np.arange(3, 15, 1),\n    'min_samples_split': [2, 5, 10],\n    'min_samples_leaf': [1, 2, 4],\n    'subsample': [0.6, 0.8, 1.0],\n    'max_features': ['sqrt', 'log2', None]\n}\n\n# initialize Gradient Boosting Classifier\ngbm = GradientBoostingClassifier(random_state=33)\n\n# set up Randomized Search\ngbm_random_search = RandomizedSearchCV(\n    estimator=gbm,\n    param_distributions=param_grid, \n    n_iter=100, \n    cv=5, \n    verbose=1, \n    random_state=33, \n    scoring='f1',\n    n_jobs=-1)\n\n# fit Randomized Search\ngbm_random_search.fit(X_train_encoded, y_train)\n\n# print best parameters\nprint(\"Best Parameters:\", gbm_random_search.best_params_)\n\n# evaluate the best model\nbest_gbm = gbm_random_search.best_estimator_\ny_pred_gbm = best_gbm.predict(X_test_encoded)\n\n# predict probabilities of positive class\ny_probs_gbm = best_gbm.predict_proba(X_test_encoded)[:, 1]\n",
    "outputsMetadata": {
     "0": {
      "height": 80,
      "type": "stream"
     }
    }
   },
   "outputs": [
    {
     "name": "stdout",
     "output_type": "stream",
     "text": [
      "Fitting 5 folds for each of 100 candidates, totalling 500 fits\n"
     ]
    }
   ],
   "source": [
    "# gradient boosting model\n",
    "\n",
    "# define the parameter grid\n",
    "param_grid = {\n",
    "    'n_estimators': np.arange(100, 1001, 100),\n",
    "    'learning_rate': [0.001, 0.01, 0.1, 0.2, 0.3],\n",
    "    'max_depth': np.arange(3, 15, 1),\n",
    "    'min_samples_split': [2, 5, 10],\n",
    "    'min_samples_leaf': [1, 2, 4],\n",
    "    'subsample': [0.6, 0.8, 1.0],\n",
    "    'max_features': ['sqrt', 'log2', None]\n",
    "}\n",
    "\n",
    "# initialize Gradient Boosting Classifier\n",
    "gbm = GradientBoostingClassifier(random_state=33)\n",
    "\n",
    "# set up Randomized Search\n",
    "gbm_random_search = RandomizedSearchCV(\n",
    "    estimator=gbm,\n",
    "    param_distributions=param_grid, \n",
    "    n_iter=100, \n",
    "    cv=5, \n",
    "    verbose=1, \n",
    "    random_state=33, \n",
    "    scoring='f1',\n",
    "    n_jobs=-1)\n",
    "\n",
    "# fit Randomized Search\n",
    "gbm_random_search.fit(X_train_encoded, y_train)\n",
    "\n",
    "# print best parameters\n",
    "print(\"Best Parameters:\", gbm_random_search.best_params_)\n",
    "\n",
    "# evaluate the best model\n",
    "best_gbm = gbm_random_search.best_estimator_\n",
    "y_pred_gbm = best_gbm.predict(X_test_encoded)\n",
    "\n",
    "# predict probabilities of positive class\n",
    "y_probs_gbm = best_gbm.predict_proba(X_test_encoded)[:, 1]\n"
   ]
  },
  {
   "cell_type": "markdown",
   "id": "bb498cfb-cacf-4f13-8826-37a7e1323f17",
   "metadata": {},
   "source": [
    "# Model Evaluation"
   ]
  },
  {
   "cell_type": "code",
   "execution_count": null,
   "id": "ef343cc0-0154-4e3e-aca5-5fbd90af8504",
   "metadata": {
    "executionCancelledAt": null,
    "executionTime": 173,
    "lastExecutedAt": 1709972804360,
    "lastScheduledRunId": null,
    "lastSuccessfullyExecutedCode": "# model comparison\n\n# calculate metrics for best_rf\nf1_rf = f1_score(y_test, y_pred_rf)\nprecision_rf = precision_score(y_test, y_pred_rf)\nrecall_rf = recall_score(y_test,y_pred_rf)\n\n# calculate metrics for best_gbm\nf1_gbm = f1_score(y_test, y_pred_gbm)\nprecision_gbm = precision_score(y_test, y_pred_gbm)\nrecall_gbm = recall_score(y_test,y_pred_gbm)\n\n# create dataFrame for the results\nresults = pd.DataFrame({\n    'Random Forest': [ f1_rf, precision_rf, recall_rf],\n    'Gradient Boosting': [f1_gbm, precision_gbm, recall_gbm]\n}, index=['F1', 'Precision', 'Recall'])\n\n# plot the comparison\nax = results.plot(kind='bar', figsize=(10, 6))\n\nplt.title('Comparison of Model Performance')\nplt.ylabel('Score')\nplt.xticks(rotation=0)  \nplt.ylim([0.0, 1.0])\n\n# move legend to upper left\nax.legend(loc='upper left')\n\n# add labels above bars\nfor p in ax.patches:\n    ax.annotate(str(round(p.get_height(), 3)), (p.get_x() + p.get_width() / 2., p.get_height()),\n                ha='center', va='center', xytext=(0, 10), textcoords='offset points')\n    \nplt.show()",
    "outputsMetadata": {
     "0": {
      "height": 137,
      "type": "stream"
     }
    }
   },
   "outputs": [],
   "source": [
    "# model comparison\n",
    "\n",
    "# calculate metrics for best_rf\n",
    "f1_rf = f1_score(y_test, y_pred_rf)\n",
    "precision_rf = precision_score(y_test, y_pred_rf)\n",
    "recall_rf = recall_score(y_test,y_pred_rf)\n",
    "\n",
    "# calculate metrics for best_gbm\n",
    "f1_gbm = f1_score(y_test, y_pred_gbm)\n",
    "precision_gbm = precision_score(y_test, y_pred_gbm)\n",
    "recall_gbm = recall_score(y_test,y_pred_gbm)\n",
    "\n",
    "# create dataFrame for the results\n",
    "results = pd.DataFrame({\n",
    "    'Random Forest': [ f1_rf, precision_rf, recall_rf],\n",
    "    'Gradient Boosting': [f1_gbm, precision_gbm, recall_gbm]\n",
    "}, index=['F1', 'Precision', 'Recall'])\n",
    "\n",
    "# plot the comparison\n",
    "ax = results.plot(kind='bar', figsize=(10, 6))\n",
    "\n",
    "plt.title('Comparison of Model Performance')\n",
    "plt.ylabel('Score')\n",
    "plt.xticks(rotation=0)  \n",
    "plt.ylim([0.0, 1.0])\n",
    "\n",
    "# move legend to upper left\n",
    "ax.legend(loc='upper left')\n",
    "\n",
    "# add labels above bars\n",
    "for p in ax.patches:\n",
    "    ax.annotate(str(round(p.get_height(), 3)), (p.get_x() + p.get_width() / 2., p.get_height()),\n",
    "                ha='center', va='center', xytext=(0, 10), textcoords='offset points')\n",
    "    \n",
    "plt.show()"
   ]
  },
  {
   "cell_type": "markdown",
   "id": "a98541ca-0701-4747-a70c-997d8e9da43c",
   "metadata": {},
   "source": [
    "Although, we are using F1-Score as the key metric to measure the accuracny of the models, its important we also look at the two components making up the F1-Score - precision and recall.\n",
    "\n",
    "- F1 Score: This is the harmonic mean of Precision and Recall and provides a balance between the two. The F1 Score for the Random Forest model is approximately 0.789, and for the Gradient Boosting model, it is higher at approximately 0.803. A higher F1 Score indicates a better balance between recall and precision.\n",
    "\n",
    "- Precision: This measures the proportion of positive identifications that were actually correct. The Precision score for the Random Forest model is approximately 0.717, and for the Gradient Boosting model, it is slightly higher at approximately 0.735. Higher precision means the model produces fewer false positives.\n",
    "\n",
    "- Recall (Sensitivity): This is the ability of the model to find all the relevant cases within a dataset. The Recall score for the Random Forest model is approximately 0.876, and for the Gradient Boosting model, it is slightly higher at approximately 0.885. Higher recall means the model is better at identifying positive instances.\n",
    "\n",
    "Overall, the Gradient Boosting model appears to outperform the Random Forest model across all three metrics as shown in this chart, suggesting it may be the better model for our particular dataset but things may change when we adjust the threshold."
   ]
  },
  {
   "cell_type": "code",
   "execution_count": null,
   "id": "458670a8-ca06-4b6f-903b-19d9401103d6",
   "metadata": {
    "executionCancelledAt": null,
    "executionTime": 176,
    "lastExecutedAt": 1709972804536,
    "lastScheduledRunId": null,
    "lastSuccessfullyExecutedCode": "# calculate precision and recall for Random Forest\nrf_precision, rf_recall, rf_thresholds = precision_recall_curve(y_test, y_probs_rf)\n\n# calculate precision and recall for Gradient Boosting\ngbm_precision, gbm_recall, gbm_thresholds = precision_recall_curve(y_test, y_probs_gbm)\n\n# calculate PR AUC scores\nrf_pr_auc = auc(rf_recall, rf_precision)\ngbm_pr_auc = auc(gbm_recall, gbm_precision)\n\n# plot Precision-Recall curves\nplt.figure(figsize=(8, 6))\nplt.plot(rf_recall, rf_precision, label=f'Random Forest')\nplt.plot(gbm_recall, gbm_precision, label=f'Gradient Boosting')\nplt.xlabel('Recall')\nplt.ylabel('Precision')\nplt.title('Precision-Recall Curve Comparison')\nplt.legend()\nplt.show()\n"
   },
   "outputs": [],
   "source": [
    "# calculate precision and recall for Random Forest\n",
    "rf_precision, rf_recall, rf_thresholds = precision_recall_curve(y_test, y_probs_rf)\n",
    "\n",
    "# calculate precision and recall for Gradient Boosting\n",
    "gbm_precision, gbm_recall, gbm_thresholds = precision_recall_curve(y_test, y_probs_gbm)\n",
    "\n",
    "# calculate PR AUC scores\n",
    "rf_pr_auc = auc(rf_recall, rf_precision)\n",
    "gbm_pr_auc = auc(gbm_recall, gbm_precision)\n",
    "\n",
    "# plot Precision-Recall curves\n",
    "plt.figure(figsize=(8, 6))\n",
    "plt.plot(rf_recall, rf_precision, label=f'Random Forest')\n",
    "plt.plot(gbm_recall, gbm_precision, label=f'Gradient Boosting')\n",
    "plt.xlabel('Recall')\n",
    "plt.ylabel('Precision')\n",
    "plt.title('Precision-Recall Curve Comparison')\n",
    "plt.legend()\n",
    "plt.show()\n"
   ]
  },
  {
   "cell_type": "markdown",
   "id": "26c94540-3f20-41c2-9f14-34d39e4dbe04",
   "metadata": {},
   "source": [
    "A PR AUC curve (as shown above) provides a detailed view of a model's performance at different thresholds, highlighting its ability to accurately identify positive instances while balancing the number of incorrect positive classifications. The PR curve can help in selecting an appropriate threshold for classification based on the desired balance between precision and recall. \n",
    "\n",
    "We will utilize this concept in arriving at an optimum threshold for our models in the development of a metric for the company.\n"
   ]
  },
  {
   "cell_type": "markdown",
   "id": "a35bf338-1941-495f-99ab-2a87b24d4f6b",
   "metadata": {},
   "source": [
    "# Business Metrics"
   ]
  },
  {
   "cell_type": "markdown",
   "id": "5896ae69-0e91-4b2a-8c52-668d5641a61c",
   "metadata": {},
   "source": [
    "The main business goal I want to address is the prediction of which recipes will be popular 80% of the time.  In order to do so, we can tweak the threshold of the Models to arrive at an optimum recall above 80%."
   ]
  },
  {
   "cell_type": "markdown",
   "id": "27a55859-36d5-415d-9416-c395b868d4e3",
   "metadata": {},
   "source": [
    "## Definition of a Metric for the Business to Monitor"
   ]
  },
  {
   "cell_type": "code",
   "execution_count": null,
   "id": "3eefeba1-1f95-4ce4-94a1-d23fe951827a",
   "metadata": {
    "executionCancelledAt": null,
    "executionTime": 48,
    "lastExecutedAt": 1709972804584,
    "lastScheduledRunId": null,
    "lastSuccessfullyExecutedCode": "# calculating the optimal threshold for the KPI\n\ndef find_optimal_threshold(y_test, y_probs, desired_recall=0.80):\n    thresholds = np.linspace(0, 1, 1000)\n    optimal_threshold = 0\n    optimal_recall = 0\n    for threshold in thresholds:\n        y_pred_threshold = np.where(y_probs >= threshold, 1, 0)\n        recall = recall_score(y_test, y_pred_threshold)\n\n        if recall >= desired_recall:\n            optimal_threshold = threshold\n            optimal_recall = recall\n        else:\n            break\n\n    # calculate precision and F1 score at the optimal threshold\n    optimal_precision = precision_score(y_test, y_pred_threshold)\n    optimal_f1 = f1_score(y_test, y_pred_threshold)\n\n    return optimal_threshold, optimal_recall, optimal_precision, optimal_f1"
   },
   "outputs": [],
   "source": [
    "# calculating the optimal threshold for the KPI\n",
    "\n",
    "def find_optimal_threshold(y_test, y_probs, desired_recall=0.80):\n",
    "    thresholds = np.linspace(0, 1, 1000)\n",
    "    optimal_threshold = 0\n",
    "    optimal_recall = 0\n",
    "    for threshold in thresholds:\n",
    "        y_pred_threshold = np.where(y_probs >= threshold, 1, 0)\n",
    "        recall = recall_score(y_test, y_pred_threshold)\n",
    "\n",
    "        if recall >= desired_recall:\n",
    "            optimal_threshold = threshold\n",
    "            optimal_recall = recall\n",
    "        else:\n",
    "            break\n",
    "\n",
    "    # calculate precision and F1 score at the optimal threshold\n",
    "    optimal_precision = precision_score(y_test, y_pred_threshold)\n",
    "    optimal_f1 = f1_score(y_test, y_pred_threshold)\n",
    "\n",
    "    return optimal_threshold, optimal_recall, optimal_precision, optimal_f1"
   ]
  },
  {
   "cell_type": "code",
   "execution_count": null,
   "id": "7b5dc4d6-917c-4d04-b0e6-3a54a8b04fe5",
   "metadata": {
    "executionCancelledAt": null,
    "executionTime": 690,
    "lastExecutedAt": 1709972805275,
    "lastScheduledRunId": null,
    "lastSuccessfullyExecutedCode": "# calculate metrics for random forest at the optimal threshold\noptimal_threshold_rf, optimal_recall_rf, optimal_precision_rf, optimal_f1_rf = find_optimal_threshold(y_test, y_probs_rf)\n\nprint(f\"Optimal threshold RF: {optimal_threshold_rf}\")\nprint(f\"Recall at this threshold RF: {optimal_recall_rf}\")\nprint(f\"Precision at this threshold RF: {optimal_precision_rf}\")\nprint(f\"F1 Score at this threshold RF: {optimal_f1_rf}\")\n",
    "outputsMetadata": {
     "0": {
      "height": 101,
      "type": "stream"
     }
    }
   },
   "outputs": [],
   "source": [
    "# calculate metrics for random forest at the optimal threshold\n",
    "optimal_threshold_rf, optimal_recall_rf, optimal_precision_rf, optimal_f1_rf = find_optimal_threshold(y_test, y_probs_rf)\n",
    "\n",
    "print(f\"Optimal threshold RF: {optimal_threshold_rf}\")\n",
    "print(f\"Recall at this threshold RF: {optimal_recall_rf}\")\n",
    "print(f\"Precision at this threshold RF: {optimal_precision_rf}\")\n",
    "print(f\"F1 Score at this threshold RF: {optimal_f1_rf}\")\n"
   ]
  },
  {
   "cell_type": "code",
   "execution_count": null,
   "id": "4c4f1200-f3bf-4ecc-8aa0-b9185ab59bb0",
   "metadata": {
    "executionCancelledAt": null,
    "executionTime": 680,
    "lastExecutedAt": 1709972805955,
    "lastScheduledRunId": null,
    "lastSuccessfullyExecutedCode": "# calculate metrics for random forest at the optimal threshold\noptimal_threshold_gbm, optimal_recall_gbm, optimal_precision_gbm, optimal_f1_gbm = find_optimal_threshold(y_test, y_probs_gbm)\n\nprint(f\"Optimal threshold GBM: {optimal_threshold_gbm}\")\nprint(f\"Recall at this threshold GBM: {optimal_recall_gbm}\")\nprint(f\"Precision at this threshold GBM: {optimal_precision_gbm}\")\nprint(f\"F1 Score at this threshold GBM: {optimal_f1_gbm}\")\n",
    "outputsMetadata": {
     "0": {
      "height": 101,
      "type": "stream"
     }
    }
   },
   "outputs": [],
   "source": [
    "# calculate metrics for random forest at the optimal threshold\n",
    "optimal_threshold_gbm, optimal_recall_gbm, optimal_precision_gbm, optimal_f1_gbm = find_optimal_threshold(y_test, y_probs_gbm)\n",
    "\n",
    "print(f\"Optimal threshold GBM: {optimal_threshold_gbm}\")\n",
    "print(f\"Recall at this threshold GBM: {optimal_recall_gbm}\")\n",
    "print(f\"Precision at this threshold GBM: {optimal_precision_gbm}\")\n",
    "print(f\"F1 Score at this threshold GBM: {optimal_f1_gbm}\")\n"
   ]
  },
  {
   "cell_type": "markdown",
   "id": "7c76da10-1c8d-4473-8fc7-68f20675755c",
   "metadata": {},
   "source": [
    "The threshold determines the point at which a probabilistic prediction is classified as one class or another (e.g., in a binary classification problem, deciding between class 1 and class 0). Using the same threshold for both models ensures that we are comparing their performance on a consistent and fair basis. Different thresholds can lead to different trade-offs between false positives and false negatives, affecting metrics like precision, recall, accuracy, and F1 score.\n",
    "\n",
    "As a result, I will set the new_optimal_threshold for both models at 0.5926, the lower of the two thresholds, to help ensure both achieve at least a recall of 80%.\n"
   ]
  },
  {
   "cell_type": "markdown",
   "id": "5bc35be9-8379-40fb-be67-cd56d7ee7aec",
   "metadata": {},
   "source": [
    "## Comparison of the Models using the defined KPI"
   ]
  },
  {
   "cell_type": "code",
   "execution_count": null,
   "id": "f0b14177-da4a-4b92-a195-56aceafeffde",
   "metadata": {
    "executionCancelledAt": null,
    "executionTime": 172,
    "lastExecutedAt": 1709972806128,
    "lastScheduledRunId": null,
    "lastSuccessfullyExecutedCode": "# set new optimal threshold to 0.5926 (the lower of the two models)\nnew_optimal_threshold = 0.5926\n\n# function to calculate metrics at a given threshold\ndef calculate_metrics(y_test, y_probs, threshold):\n    y_pred = np.where(y_probs >= threshold, 1, 0)\n    recall = recall_score(y_test, y_pred)\n    precision = precision_score(y_test, y_pred)\n    f1 = f1_score(y_test, y_pred)\n    return recall, precision, f1\n\n# recalculate metrics for Random Forest at the new threshold\nnew_recall_rf, new_precision_rf, new_f1_rf = calculate_metrics(y_test, y_probs_rf, new_optimal_threshold)\n\n# recalculate metrics for Gradient Boosting at the new threshold\nnew_recall_gbm, new_precision_gbm, new_f1_gbm = calculate_metrics(y_test, y_probs_gbm, new_optimal_threshold)\n\n# update the results DataFrame\nnew_results = pd.DataFrame({\n    'Random Forest': [new_recall_rf, new_precision_rf, new_f1_rf],\n    'Gradient Boosting': [new_recall_gbm, new_precision_gbm, new_f1_gbm]\n}, index=['Recall', 'Precision', 'F1'])\n\n# plot the comparison\nax = new_results.plot(kind='bar', figsize=(10, 6))\n\nplt.title('Comparison of Model Performance at Threshold of 0.5926')\nplt.ylabel('Score')\nplt.xticks(rotation=0)  \nplt.ylim([0.0, 1.0])\n\n# add labels above bars\nfor p in ax.patches:\n    ax.annotate(str(round(p.get_height(), 4)), (p.get_x() + p.get_width() / 2., p.get_height()),\n                ha='center', va='center', xytext=(0, 10), textcoords='offset points')\n    \nplt.show()"
   },
   "outputs": [],
   "source": [
    "# set new optimal threshold to 0.5926 (the lower of the two models)\n",
    "new_optimal_threshold = 0.5926\n",
    "\n",
    "# function to calculate metrics at a given threshold\n",
    "def calculate_metrics(y_test, y_probs, threshold):\n",
    "    y_pred = np.where(y_probs >= threshold, 1, 0)\n",
    "    recall = recall_score(y_test, y_pred)\n",
    "    precision = precision_score(y_test, y_pred)\n",
    "    f1 = f1_score(y_test, y_pred)\n",
    "    return recall, precision, f1\n",
    "\n",
    "# recalculate metrics for Random Forest at the new threshold\n",
    "new_recall_rf, new_precision_rf, new_f1_rf = calculate_metrics(y_test, y_probs_rf, new_optimal_threshold)\n",
    "\n",
    "# recalculate metrics for Gradient Boosting at the new threshold\n",
    "new_recall_gbm, new_precision_gbm, new_f1_gbm = calculate_metrics(y_test, y_probs_gbm, new_optimal_threshold)\n",
    "\n",
    "# update the results DataFrame\n",
    "new_results = pd.DataFrame({\n",
    "    'Random Forest': [new_recall_rf, new_precision_rf, new_f1_rf],\n",
    "    'Gradient Boosting': [new_recall_gbm, new_precision_gbm, new_f1_gbm]\n",
    "}, index=['Recall', 'Precision', 'F1'])\n",
    "\n",
    "# plot the comparison\n",
    "ax = new_results.plot(kind='bar', figsize=(10, 6))\n",
    "\n",
    "plt.title('Comparison of Model Performance at Threshold of 0.5926')\n",
    "plt.ylabel('Score')\n",
    "plt.xticks(rotation=0)  \n",
    "plt.ylim([0.0, 1.0])\n",
    "\n",
    "# add labels above bars\n",
    "for p in ax.patches:\n",
    "    ax.annotate(str(round(p.get_height(), 4)), (p.get_x() + p.get_width() / 2., p.get_height()),\n",
    "                ha='center', va='center', xytext=(0, 10), textcoords='offset points')\n",
    "    \n",
    "plt.show()"
   ]
  },
  {
   "cell_type": "markdown",
   "id": "3fae1c6d-b6d7-4a8d-a421-12f2cf498e88",
   "metadata": {},
   "source": [
    "The initial values for the recall metric are as follows:\n",
    "1) Random Forest - 0.823 at threshold 0.5926\n",
    "2) Gradient Boosting - 0.8053 at threshold 0.5926\n",
    "\n",
    "From this comparison, the Random Forest model shows a marginally better recall (and F1 Score) using the defined KPI, indicating it would be the more effective model for predicting high-traffic recipes at this threshold. The two models have a comparable precision score, but high recall is what we we're shooting for.\n",
    "\n",
    "The KPI we will be using moving forward (assuming this recommendation is accepted) is the recall score from the random forest adjusted to a threshold of 0.5926. \n",
    "\n",
    "This supports the business goal of correctly predicting high traffic recipes 80% of the time (recall), as well as limiting the number of less popular receipes on the home page (precision).  This should significantly increase traffic to the website and thus generate more revenue for the commpany."
   ]
  },
  {
   "cell_type": "markdown",
   "id": "9aef3472-9e90-43fb-a990-c0759906d217",
   "metadata": {},
   "source": [
    "# Final Summary including Recommendations"
   ]
  },
  {
   "cell_type": "markdown",
   "id": "1f8242e6-cca2-4a3b-844e-ee1340941d51",
   "metadata": {},
   "source": [
    "## Recommendations"
   ]
  },
  {
   "cell_type": "markdown",
   "id": "e70d5fdc-ad5e-4542-8297-104ee49213f2",
   "metadata": {},
   "source": [
    "1) Predict on New Recipes: Use the optimized Random Forest model to predict whether new recipes will be high-traffic.\n",
    "2) Collect True Outcomes: Over time, collect the actual traffic data for these recipes. This gives us the true outcomes (whether they were actually high-traffic or not).\n",
    "3) Evaluate Model Performance: After some time, when we have enough data, evaluate the performance of our model on these new recipes using recall and possibly other relevant metrics.\n",
    "-   If a recipe was predicted to be high-traffic and it indeed turned out to be high-traffic, it's a True Positive (TP).\n",
    "-   If a recipe was high-traffic but the model failed to predict it as such, it's a False Negative (FN).\n",
    "\n",
    "4) Recalculate Recall: To assess how well our model is capturing the high-traffic recipes in this new dataset:\n",
    "\n",
    "        Recall = True Positives (TP) / (True Positives (TP) + False Negatives (FN))\n",
    "    \n",
    "5) Adjust Model as Needed: If the recall on the new dataset is lower then 80%, it might indicate that the model needs retraining or adjusting to better capture the patterns in the new data.\n"
   ]
  },
  {
   "cell_type": "markdown",
   "id": "fc47a2d4-251b-478b-aba7-24bbb4ea96d7",
   "metadata": {},
   "source": [
    "## Summary"
   ]
  },
  {
   "cell_type": "markdown",
   "id": "e78dab38-37de-4ae7-aabf-f68b466ae78b",
   "metadata": {},
   "source": [
    "In summary, I was able to address the business problem as follows:\n",
    "\n",
    "- Recognized the importance of featuring a popular recipe to increase website traffic and, consequently, subscriptions.-\n",
    "- Worked with a comprehensive dataset provided by the product manager, which included nutritional content, categories, and user interactions.\n",
    "- Ensured data quality by cleaning and preprocessing, which involved handling missing values, normalizing numerical information, and encoding categorical data for analysis.\n",
    "- Analyzed the data to identify trends and patterns, particularly the proportion of high-traffic recipes by category, which provided insights into user preferences.\n",
    "- Chose the Random Forest and Gradient Boosting models for their ability to handle the data effectively and evaluated them using metrics like recall, precision, and the F1 score.\n",
    "- Fine-tuned the models by finding the optimal threshold to maintain a balance between precision (above 80%) and recall (less than 80% but pretty well balanced for the required recall level), focusing on achieving at least an 80% recall rate.\n",
    "- Utilized the optimized Random Forest model to predict daily high-traffic recipes for the homepage based on its superior performance metrics.\n",
    "- Decided to continuously monitor the model's performance (KPI) using the recall score at the established threshold, ensuring alignment with business goals.\n",
    "- Outlined a plan for ongoing model refinement based on real-world data and user feedback, ensuring the model remains responsive to changing user trends and preferences.\n",
    "\n",
    "Throughout the process, my approach was data-driven, methodical, and aligned with the objective of enhancing user engagement on the Tasty Bytes platform by featuring recipes with the highest likelihood of attracting traffic."
   ]
  },
  {
   "cell_type": "markdown",
   "id": "e42d43a8-a88a-48ea-8e13-dc20ae361cda",
   "metadata": {},
   "source": [
    "## ✅ When you have finished...\n",
    "-  Publish your Workspace using the option on the left\n",
    "-  Check the published version of your report:\n",
    "\t-  Can you see everything you want us to grade?\n",
    "    -  Are all the graphics visible?\n",
    "-  Review the grading rubric. Have you included everything that will be graded?\n",
    "-  Head back to the [Certification Dashboard](https://app.datacamp.com/certification) to submit your practical exam report and record your presentation"
   ]
  }
 ],
 "metadata": {
  "colab": {
   "name": "Welcome to DataCamp Workspaces.ipynb",
   "provenance": []
  },
  "kernelspec": {
   "display_name": "Python 3 (ipykernel)",
   "language": "python",
   "name": "python3"
  },
  "language_info": {
   "codemirror_mode": {
    "name": "ipython",
    "version": 3
   },
   "file_extension": ".py",
   "mimetype": "text/x-python",
   "name": "python",
   "nbconvert_exporter": "python",
   "pygments_lexer": "ipython3",
   "version": "3.11.5"
  }
 },
 "nbformat": 4,
 "nbformat_minor": 5
}
